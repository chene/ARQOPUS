{
  "nbformat": 4,
  "nbformat_minor": 0,
  "metadata": {
    "colab": {
      "name": "Untitled10.ipynb",
      "provenance": [],
      "authorship_tag": "ABX9TyPlhKMqCIQz3ouNoZeJjnSC",
      "include_colab_link": true
    },
    "kernelspec": {
      "name": "python3",
      "display_name": "Python 3"
    },
    "language_info": {
      "name": "python"
    }
  },
  "cells": [
    {
      "cell_type": "markdown",
      "metadata": {
        "id": "view-in-github",
        "colab_type": "text"
      },
      "source": [
        "<a href=\"https://colab.research.google.com/github/chene/ARQOPUS/blob/main/point_Procrustes.ipynb\" target=\"_parent\"><img src=\"https://colab.research.google.com/assets/colab-badge.svg\" alt=\"Open In Colab\"/></a>"
      ]
    },
    {
      "cell_type": "markdown",
      "metadata": {
        "id": "zxza-fUnlhWP"
      },
      "source": [
        "# Orthogonal Procrustes Analysis (OPA)\n",
        "\n",
        "<a href=\"mailto:chene@robarts.ca?subject=ARQOPUS/OPA\">If you have any questions about this page, feel free to send me a note.</a>\n",
        "\n",
        "[Procrustes](https://en.wikipedia.org/wiki/Procrustes) Analysis refers to the process of transforming one set of data such that it matches better with another. Within the context of computer-assisted interventions (CAI), we are typically interested in **scaling**, followed by **rotation** and **translation** of one set of 3D points so they are *registered* (aligned) with another set of 3D points. *Orthogonal* implies that there is no shearing. We assume there is a 1:1 correspondance between theset two datasets.\n",
        "\n",
        "Perhaps the authoritative literature on this subject matter is the book by Gower and Dijksterhuis:\n",
        "\n",
        "```\n",
        "@book{GD2004,\n",
        "address   = {New York},\n",
        "author    = {Gower, John C. and Dijksterhuis, Garmt B.},\n",
        "publisher = {Oxford University Press},\n",
        "title     = {Procrustes Problems},\n",
        "year      = {2004}, }\n",
        "```"
      ]
    },
    {
      "cell_type": "markdown",
      "metadata": {
        "id": "-MRjEjLmoTGJ"
      },
      "source": [
        "## OPA with isotropic scaling\n",
        "\n",
        "Orthogonal Procrustes Analysis with isotropic scaling, better known as fiducial (or landmark) based registration in CAI, is described by the following equation:\n",
        "\n",
        "\\begin{equation}\n",
        "y_i = R a x_i + t + n_i\n",
        "\\end{equation}\n",
        "where $y_i$ and $x_i$ are $3 \\times 1$ vectors representing corresponding points in two spaces, $R_{3 \\times 3}$ orthonormal rotation, $t_{3 \\times 1}$ translation, $a$ is a scaling factor, and $n_i$ a noise vector. Note that when $a$ is a scalar, it is immaterial on which side of $R$ the scaling is applied.\n",
        "\n",
        "To solve for $R$, $t$, and $a$, we treat it as a least-squares regression problem and minimize the following cost function:\n",
        "\n",
        "\\begin{equation}\n",
        "FRE^{2} = \\frac{1}{N} \\sum_{1}^{N} | R x_i  + t - y_i |^{2}\n",
        "\\end{equation}\n",
        "where the residual to minimize is called Fiducial Registration Error (FRE). \n",
        "\n",
        "The Procrustes Analysis is universal in many field, with some of the earliest solution been proposed as early as 1950's. The two common solutions used in the CAI field, both are closed-form solution and equivalent to each other, are:\n",
        "\n",
        "```\n",
        "@article{AHB1987,\n",
        "author   = {Arun, K. S. and Huang, T. S. and Blostein, Steven D.},\n",
        "journal  = {IEEE Transactions on Pattern Analysis and Machine Intelligence},\n",
        "title    = {{Least-Squares Fitting of Two 3-D Point Sets}},\n",
        "number   = {5},\n",
        "pages    = {698--700},\n",
        "volume   = {PAMI-9},\n",
        "year     = {1987}, \n",
        "doi      = {10.1109/TPAMI.1987.4767965}, }\n",
        "```\n",
        "with their solution based on Singular Value Decomposition (SVD), and\n",
        "```\n",
        "@article{Horn1987,\n",
        "author   = {Horn, Berthold K. P.},\n",
        "journal  = {Journal of the Optical Society of America A},\n",
        "title    = {{Closed-form solution of absolute orientation using unit quaternions}}\n",
        "number   = {4},\n",
        "pages    = {629--642},\n",
        "volume   = {4},\n",
        "year     = {1987}, \n",
        "doi      = {10.1364/JOSAA.4.000629}, }\n",
        "```\n",
        "with his solution based on unit quaternion. Note that the SVD solution does **not** solve for the scaling factor, while Horn provides a more generic solution that i) resolves an invertable scaling factor, and ii) a weighted scheme.  Thus, I personally prefer the quaternion formulation.\n",
        "\n",
        "It should further be noted that the solution based on quaternion formulation works only in $3$D, where the SVD solution is universal to $m$D. "
      ]
    },
    {
      "cell_type": "markdown",
      "metadata": {
        "id": "DZKyFhvxAYGB"
      },
      "source": [
        "Here is the Matlab code that implements the closed form solution. Note that we solve for the rotation using the SVD formulation, but the scaling using Horn's formulation:\n",
        "```\n",
        "function [R, t, a] = OPA( X, Y )\n",
        "% Solves Y = R a X + t, least-square solution\n",
        "% INPUTS:  X : (mxn) mD coordinates,\n",
        "%          Y : (mxn) mD coordinates\n",
        "% OUTPUTS: R : mxm orthonormal rotation\n",
        "%          t : mx1 translation\n",
        "%          a : a scalar scaling factor\n",
        "%\n",
        "% Elvis C.S. Chen\n",
        "% chene AT robarts DOT ca\n",
        "\n",
        "[m,n] = size(X); e = ones(n,1); II = eye(n)-((e*e')./n);\n",
        "[U,~,V] = svd(Y*II*X'); D = eye(m); D(m,m)=det(U*V');\n",
        "R = U * D * V';                                      % rotation\n",
        "a = sqrt( sum(sum((Y*II).^2))/sum(sum((X*II).^2)) ); % scaling\n",
        "t = mean( Y-R*a*X, 2);                               % translation\n",
        "```"
      ]
    },
    {
      "cell_type": "markdown",
      "metadata": {
        "id": "QwmGz9-HBLT_"
      },
      "source": [
        "And our equivalent Python implementation is:"
      ]
    },
    {
      "cell_type": "code",
      "metadata": {
        "id": "qc8FtMZfR5zA"
      },
      "source": [
        "import numpy as np\n",
        "import math"
      ],
      "execution_count": null,
      "outputs": []
    },
    {
      "cell_type": "code",
      "metadata": {
        "id": "mDVPfvtdBw8-"
      },
      "source": [
        "def OPA( X, Y ):\n",
        "# Solves Y = R a X + t, least-square solution\n",
        "# INPUTS:  X : (mxn) mD coordinates,\n",
        "#          Y : (mxn) mD coordinates\n",
        "# OUTPUTS: R : mxm orthonormal rotation\n",
        "#          t : mx1 translation\n",
        "#          a : a scalar scaling factor\n",
        "#\n",
        "# Elvis C.S. Chen\n",
        "# chene AT robarts DOT ca\n",
        "  [m,n] = X.shape\n",
        "  II = np.identity(n) - np.ones((n,n))/n\n",
        "  u, s, vh = np.linalg.svd( np.matmul( np.matmul( Y, II ), np.transpose(X) ) )\n",
        "  D = np.identity(m)\n",
        "  D[m-1,m-1] = np.linalg.det( np.matmul( u, vh ) )\n",
        "  R = np.matmul(u, np.matmul(D, vh) ) # rotation\n",
        "  a = math.sqrt( np.sum ( np.square( np.matmul( Y, II ) ) ) / np.sum( np.square( np.matmul( X, II ) ) ) ) # isotropic scaling\n",
        "  t = np.reshape(np.mean( Y - np.matmul( R, X * a),1 ), [m,1]) # translation\n",
        "  return [R, t, a]"
      ],
      "execution_count": null,
      "outputs": []
    },
    {
      "cell_type": "markdown",
      "metadata": {
        "id": "uPH3PFX-PCud"
      },
      "source": [
        "We can test the above code using the following codes.\n",
        "\n",
        "First, let's re-use some of the codes from the earlier example for the generation of rotation matrices:"
      ]
    },
    {
      "cell_type": "code",
      "metadata": {
        "id": "Ru6Xja5fIU-Z"
      },
      "source": [
        "def rotx3x3(angle):\n",
        "    \"\"\"\n",
        "    \n",
        "    Parameters\n",
        "    ----------\n",
        "    angle : \n",
        "        angle in radian\n",
        "\n",
        "    Returns\n",
        "    -------\n",
        "    a 3x3 rotation matrix about x-axis by an amount \"angle\"\n",
        "\n",
        "    \"\"\"\n",
        "    ca = math.cos(angle)\n",
        "    sa = math.sin(angle)\n",
        "    m = np.array([[1,0,0],[0, ca, -sa], [0, sa, ca]])\n",
        "    return m\n",
        "  \n",
        "def roty3x3(angle):\n",
        "    \"\"\"\n",
        "    \n",
        "    Parameters\n",
        "    ----------\n",
        "    angle : \n",
        "        angle in radian\n",
        "\n",
        "    Returns\n",
        "    -------\n",
        "    a 3x3 rotation matrix about y-axis by an amount \"angle\"\n",
        "\n",
        "    \"\"\"\n",
        "    ca = math.cos(angle)\n",
        "    sa = math.sin(angle)\n",
        "    m = np.array([[ca,0,sa],[0,1,0],[-sa,0,ca]])\n",
        "    return m\n",
        "\n",
        "def rotz3x3(angle):\n",
        "    \"\"\"\n",
        "\n",
        "    Parameters\n",
        "    ----------\n",
        "    angle : \n",
        "        angle in radian\n",
        "\n",
        "    Returns\n",
        "    -------\n",
        "    a 3x3 rotation matrix about z-axis by an amoung \"angle\"\n",
        "\n",
        "    \"\"\"\n",
        "    ca = math.cos(angle)\n",
        "    sa = math.sin(angle)\n",
        "    m = np.array([[ca, -sa, 0], [sa, ca, 0], [ 0, 0, 1]])\n",
        "    return m"
      ],
      "execution_count": null,
      "outputs": []
    },
    {
      "cell_type": "markdown",
      "metadata": {
        "id": "tRUPVil-PRyk"
      },
      "source": [
        "### Test case\n",
        "\n",
        "In the following test, we will first generate the following\n",
        "- a random scaling factor,\n",
        "- a random rotational matrix, and\n",
        "- a random translation\n",
        "- a random 3x10 3D points ($x_i$).\n",
        "\n",
        "We generate a ground truth ($y_i$) by applying these transformations, then use our OPA code to recover these transformations."
      ]
    },
    {
      "cell_type": "code",
      "metadata": {
        "id": "ZWUc0pZnIqPx"
      },
      "source": [
        "dim = 3\n",
        "n = 10\n",
        "\n",
        "X = np.random.rand( dim, n )\n",
        "gt_a = np.random.rand(1,1)\n",
        "gt_R = np.matmul( np.matmul( roty3x3( np.random.rand(1,1) ), rotx3x3( np.random.rand(1,1) ) ), rotz3x3( np.random.rand(1,1) ) )\n",
        "gt_t = np.random.rand(3,1) * 10\n",
        "print('Ground truth rotation:\\n', gt_R, '\\nGround truth translation\\n', gt_t, '\\nGround truth scaling\\n', gt_a)\n",
        "\n",
        "e = np.ones((1,n))\n",
        "Y = np.matmul( gt_a*gt_R, X ) + np.matmul(gt_t,e)\n",
        "\n",
        "#print(X)\n",
        "#print(Y)\n",
        "[R,t,a] = OPA(X,Y)\n",
        "print('Computed rotation:\\n', R, '\\nComputed translation\\n', t, '\\nComputed scaling\\n',a)"
      ],
      "execution_count": null,
      "outputs": []
    },
    {
      "cell_type": "markdown",
      "metadata": {
        "id": "clDd-rqFpK6F"
      },
      "source": [
        "## OPA with anisotropic scaling\n",
        "\n",
        "While the OPA with scalar (isotropic) scaling factor has a closed form solution, OPA with anisotropic scaling, i.e. scaling factor is different for each axis, do not.  With anisotropic scaling, we also need to different between **pre-scaling** or **post-scaling**, as the order of the operation (i.e. scaling before rotation, or after) matters."
      ]
    },
    {
      "cell_type": "markdown",
      "metadata": {
        "id": "VxLxyXpZTRls"
      },
      "source": [
        "Dosse and Ten Berge made a break-through in 2010. Using the Majorization Principle, they demonstrated that a monotonically convergent solution is possible:\n",
        "```\n",
        "@article{BD2010,\n",
        "author   = {{Bennani Dosse}, Mohammed and {Ten Berge}, Jos},\n",
        "journal  = {Journal of Classification},\n",
        "number   = {1},\n",
        "pages    = {111--128},\n",
        "title    = {{Anisotropic Orthogonal Procrustes Analysis}},\n",
        "volume   = {27},\n",
        "year     = {2010},\n",
        "doi      = {10.1007/s00357-010-9046-8}, }\n",
        "```\n",
        "\n",
        "Based on their derivation, I presented the following solution to the following problem:\n",
        "\\begin{equation}\n",
        "FRE^{2} = \\frac{1}{N} \\sum_{i=1}^{N} | R A x_i + t - y_i |^2\n",
        "\\end{equation}\n",
        "where $A$ is a diagonal scaling matrix. Note that, in general, $R A != A R$. The solution was first presented at:\n",
        "\n",
        "```\n",
        "@inproceedings{CMJ+2014,\n",
        "author    = {Chen, Elvis C. S. and McLeod, A. Jonathan and Jayarathne, Uditha L. and Peters, Terry M.},\n",
        "booktitle = {Proc. SPIE 9036, Medical Imaging 2014: Image-Guided Procedures, Robotic Interventions, and Modeling},\n",
        "editor    = {Yaniv, Ziv R. and Holmes, David R.},\n",
        "pages     = {90361Z},\n",
        "title     = {{Solving for free-hand and real-time 3D ultrasound calibration with anisotropic orthogonal Procrustes analysis}},\n",
        "year      = {2014},\n",
        "doi       = {10.1117/12.2043080}, }\n",
        "```"
      ]
    },
    {
      "cell_type": "markdown",
      "metadata": {
        "id": "v2HSdjEbVwPC"
      },
      "source": [
        "The Matlab code is:\n",
        "```\n",
        "function [ R, t, A ] = AOPA_major( X, Y, tol ) % Majorization\n",
        "% Solves Y = R A X + t, least-square solution\n",
        "% INPUTS:  X : (mxn) mD coordinates,\n",
        "%          Y : (mxn) mD coordinates\n",
        "% OUTPUTS: R : mxm orthonormal rotation\n",
        "%          t : mx1 translation\n",
        "%          A : mxm diagonal scaling\n",
        "%\n",
        "% Elvis C.S. Chen\n",
        "% chene AT robarts DOT ca\n",
        "\n",
        "n = size(X,2); e = ones(n,1); II=eye(n)-((e*e')./n);\n",
        "mX= normr(X*II); mY = (Y*II);\n",
        "B = mY*mX'; [U,~,V] = svd( B );\n",
        "R=U*[1 0 0; 0 1 0; 0 0 det(U*V')]*V';\n",
        "err = +Inf; E_old = 10000*ones(3,n);\n",
        "while err > tol\n",
        "    [U,~,V] = svd( B*diag(diag(R'*B)) );\n",
        "    R = U*[1 0 0; 0 1 0; 0 0 det(U*V')]*V';  \n",
        "    E = R*mX-mY; \n",
        "    err = norm( E-E_old,'fro' ); E_old = E;\n",
        "end\n",
        "B = Y*II*X'; A = diag( diag(B'*R) ./ diag(X*II*X') );\n",
        "t = mean( Y-R*A*X, 2 );\n",
        "```"
      ]
    },
    {
      "cell_type": "markdown",
      "metadata": {
        "id": "LmMlAkJRXGPp"
      },
      "source": [
        "The Python code is:"
      ]
    },
    {
      "cell_type": "code",
      "metadata": {
        "id": "DoPq5y-pXIcJ"
      },
      "source": [
        "\n",
        "def AOPA_Major(X, Y, tol):\n",
        "    \"\"\"\n",
        "    Computes the Procrustean fiducial registration between X and Y with \n",
        "    anisotropic Scaling:\n",
        "        \n",
        "        Y = R * A * X + t\n",
        "        \n",
        "    where X is a mxn matrix, m is typically 3\n",
        "          Y is a mxn matrix, same dimension as X\n",
        "          \n",
        "          R is a mxm rotation matrix,\n",
        "          A is a mxm diagonal scaling matrix, and\n",
        "          t is a mx1 translation vector\n",
        "          \n",
        "    based on the Majorization Principle\n",
        "\n",
        "    Elvis C.S. Chen\n",
        "    chene AT robarts DOT ca\n",
        "    \"\"\"\n",
        "    [m,n] = X.shape\n",
        "    II = np.identity(n) - np.ones((n,n))/n\n",
        "    mX = np.nan_to_num(np.matmul(X,II)/np.linalg.norm(np.matmul(X,II), ord=2, axis=1, keepdims=True))\n",
        "    mY = np.matmul(Y,II)\n",
        "    \n",
        "    # estimate the initial rotation\n",
        "    B = np.matmul(mY, mX.transpose())\n",
        "    u, s, vh = np.linalg.svd(B)\n",
        "    \n",
        "    # check for flip\n",
        "    D = np.identity(m)\n",
        "    D[m-1,m-1] = np.linalg.det(np.matmul(u,vh))\n",
        "    R = np.matmul(u, np.matmul(D,vh))\n",
        "    \n",
        "    # loop\n",
        "    err = np.Infinity\n",
        "    E_old = 1000000 * np.ones((m,n))\n",
        "    while err > tol: \n",
        "        u, s, vh = np.linalg.svd( np.matmul(B, np.diag(np.diag(np.matmul(R.transpose(),B)))) )\n",
        "        D[m-1,m-1] = np.linalg.det(np.matmul(u,vh))\n",
        "        R = np.matmul(u, np.matmul(D,vh))\n",
        "        E = np.matmul(R,mX) - mY\n",
        "        err = np.linalg.norm(E-E_old)\n",
        "        E_old = E\n",
        "    # after rotation is computed, compute the scale\n",
        "    B = np.matmul(Y, np.matmul(II, X.transpose()))\n",
        "    A = np.diag( np.divide( np.diag( np.matmul(B.transpose(), R)), np.diag( np.matmul(X, np.matmul(II, X.transpose()))) ) )\n",
        "    if (math.isnan(A[2,2])):\n",
        "        # special case for ultrasound calibration, where z=0\n",
        "        A[2,2] = .5 * (A[0,0] + A[1,1]) # artificially assign a number to the scale in z-axis\n",
        "    # calculate translation\n",
        "    t = np.reshape(np.mean( Y - np.matmul(R, np.matmul(A,X)), 1), [m,1])\n",
        "    return[R,t,A]"
      ],
      "execution_count": null,
      "outputs": []
    },
    {
      "cell_type": "markdown",
      "metadata": {
        "id": "UAMXlyatJQNI"
      },
      "source": [
        "### Test case\n",
        "In the following test, we will first generate the following\n",
        "- a random anisotropic scaling factors,\n",
        "- a random rotational matrix, and\n",
        "- a random translation\n",
        "- a random 3x10 3D points ($x_i$).\n",
        "\n",
        "We generate a ground truth ($y_i$) by applying these transformations, then use our OPA code to recover these transformations."
      ]
    },
    {
      "cell_type": "code",
      "metadata": {
        "id": "8w9q2I3mFUJP"
      },
      "source": [
        "dim = 3\n",
        "n = 10\n",
        "\n",
        "X = np.random.rand( dim, n )\n",
        "gt_A = np.identity(dim) * np.random.rand(dim,1)\n",
        "gt_R = np.matmul( np.matmul( roty3x3( np.random.rand(1,1) ), rotx3x3( np.random.rand(1,1) ) ), rotz3x3( np.random.rand(1,1) ) )\n",
        "gt_t = np.random.rand(3,1) * 10\n",
        "print('Ground truth rotation:\\n', gt_R, '\\nGround truth translation\\n', gt_t, '\\nGround truth scaling\\n', gt_A)\n",
        "\n",
        "e = np.ones((1,n))\n",
        "Y = np.matmul( np.matmul(gt_R, gt_A), X ) + np.matmul(gt_t,e)\n",
        "\n",
        "#print(X)\n",
        "#print(Y)\n",
        "[R,t,A] = AOPA_Major(X, Y, 1e-9)\n",
        "print('Computed rotation:\\n', R, '\\nComputed translation\\n', t, '\\nComputed scaling\\n',A)"
      ],
      "execution_count": null,
      "outputs": []
    }
  ]
}