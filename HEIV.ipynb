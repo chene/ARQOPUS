{
  "nbformat": 4,
  "nbformat_minor": 0,
  "metadata": {
    "colab": {
      "name": "Untitled12.ipynb",
      "provenance": [],
      "authorship_tag": "ABX9TyNJptPf2ZgqDK4V+zp1madC",
      "include_colab_link": true
    },
    "kernelspec": {
      "name": "python3",
      "display_name": "Python 3"
    },
    "language_info": {
      "name": "python"
    }
  },
  "cells": [
    {
      "cell_type": "markdown",
      "metadata": {
        "id": "view-in-github",
        "colab_type": "text"
      },
      "source": [
        "<a href=\"https://colab.research.google.com/github/chene/ARQOPUS/blob/main/HEIV.ipynb\" target=\"_parent\"><img src=\"https://colab.research.google.com/assets/colab-badge.svg\" alt=\"Open In Colab\"/></a>"
      ]
    },
    {
      "cell_type": "markdown",
      "source": [
        "# Optimal solution in the presence of heteroscedastic Fiducial Localization Error\n",
        "\n",
        "```\n",
        "@inproceedings{Matei1999,\n",
        "author    = {Matei, Bogdan and Meer, Peter},\n",
        "booktitle = {Proceedings. 1999 IEEE Computer Society Conference on Computer Vision and Pattern Recognition (Cat. No PR00149)},\n",
        "doi       = {10.1109/CVPR.1999.786961},\n",
        "pages     = {339--345},\n",
        "publisher = {IEEE Comput. Soc},\n",
        "title     = {Optimal rigid motion estimation and performance evaluation with bootstrap},\n",
        "year      = {1999}, }\n",
        "```"
      ],
      "metadata": {
        "id": "FsnQVwx7lbn9"
      }
    }
  ]
}