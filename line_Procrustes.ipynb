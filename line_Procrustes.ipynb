{
  "nbformat": 4,
  "nbformat_minor": 0,
  "metadata": {
    "colab": {
      "name": "Untitled11.ipynb",
      "provenance": [],
      "authorship_tag": "ABX9TyOzAply9d7crPeaEa+aRhRP",
      "include_colab_link": true
    },
    "kernelspec": {
      "name": "python3",
      "display_name": "Python 3"
    },
    "language_info": {
      "name": "python"
    }
  },
  "cells": [
    {
      "cell_type": "markdown",
      "metadata": {
        "id": "view-in-github",
        "colab_type": "text"
      },
      "source": [
        "<a href=\"https://colab.research.google.com/github/chene/ARQOPUS/blob/main/line_Procrustes.ipynb\" target=\"_parent\"><img src=\"https://colab.research.google.com/assets/colab-badge.svg\" alt=\"Open In Colab\"/></a>"
      ]
    },
    {
      "cell_type": "markdown",
      "metadata": {
        "id": "sr5aKeWtO1G2"
      },
      "source": [
        "# Line-based Orthogonal Procrustes Analysis\n",
        "\n",
        "In line-based Procrustes Analysis, we are interested in register a set of points to a set of lines, where the correspondence between point-line is explicitly known. Within the context of computer-assisted interventions (CAI), we are typically interested in **scaling**, followed by **rotation** and **translation** of a set of 3D *points* so they are registered (aligned) to a set of 3D *lines*. Again, Orthogonal implies that there is no searing. We also assume there is a 1:1 correspondence between these two 3D datasets.\n",
        "\n",
        "The immediate application for line-based Procrustes Analysis in CAI are:\n",
        "\n",
        "Camera Hand-Eye Calibration:\n",
        "```\n",
        "@article{Morgan2017,\n",
        "author    = {Morgan, Isabella and Jayarathne, Uditha L. and Rankin, Adam and Peters, Terry M. and Chen, Elvis C. S.},\n",
        "doi       = {10.1007/s11548-017-1590-9},\n",
        "journal   = {International journal of computer assisted radiology and surgery},\n",
        "number    = {7},\n",
        "pages     = {1141--1149},\n",
        "pmid      = {28425030},\n",
        "title     = {Hand-eye calibration for surgical cameras: a Procrustean Perspective-n-Point solution},\n",
        "volume    = {12},\n",
        "year      = {2017}, }\n",
        "```\n",
        "\n",
        "and Ultrasound Probe Calibration:\n",
        "```\n",
        "@article{Chen2016,\n",
        "author    = {Chen, Elvis C. S. and Peters, Terry M. and Ma, Burton},\n",
        "doi       = {10.1007/s11548-016-1390-7},\n",
        "journal   = {International Journal of Computer Assisted Radiology and Surgery},\n",
        "number    = {6},\n",
        "pages     = {889--898},\n",
        "pmid      = {27038966},\n",
        "title     = {Guided ultrasound calibration: where, how, and how many calibration fiducials},\n",
        "volume    = {11},\n",
        "year      = {2016}, }\n",
        "```\n",
        "\n",
        "I first introduced the Matlab code in the following:\n",
        "```\n",
        "@inproceedings{Chen2017,\n",
        "author    = {Chen, Elvis C. S. and Peters, Terry M. and Ma, Burton},\n",
        "booktitle = {Proc. SPIE 10135, Medical Imaging 2017: Image-Guided Procedures, Robotic Interventions, and Modeling},\n",
        "doi       = {10.1117/12.2253692},\n",
        "editor    = {Webster, Robert J. and Fei, Baowei},\n",
        "pages     = {1013509},\n",
        "title     = {Which point-line registration?},\n",
        "volume    = {1013509},\n",
        "year      = {2017}, }\n",
        "```"
      ]
    },
    {
      "cell_type": "markdown",
      "source": [
        "We address the problem of line-based Procrustean Analysis using an iterative algorithm. It works in a similar manner to the popular [ICP](https://ieeexplore.ieee.org/document/121791) algorithm, where the corresponding point for **a point** along **a given line** is searched first, followed by [the point-based Procrustean Analysis](https://github.com/chene/ARQOPUS/blob/main/point_Procrustes.ipynb). "
      ],
      "metadata": {
        "id": "zVseiJnZgqOb"
      }
    }
  ]
}