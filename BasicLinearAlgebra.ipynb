{
  "nbformat": 4,
  "nbformat_minor": 0,
  "metadata": {
    "colab": {
      "name": "Untitled3.ipynb",
      "provenance": [],
      "collapsed_sections": [],
      "include_colab_link": true
    },
    "kernelspec": {
      "name": "python3",
      "display_name": "Python 3"
    },
    "language_info": {
      "name": "python"
    }
  },
  "cells": [
    {
      "cell_type": "markdown",
      "metadata": {
        "id": "view-in-github",
        "colab_type": "text"
      },
      "source": [
        "<a href=\"https://colab.research.google.com/github/chene/ARQOPUS/blob/main/BasicLinearAlgebra.ipynb\" target=\"_parent\"><img src=\"https://colab.research.google.com/assets/colab-badge.svg\" alt=\"Open In Colab\"/></a>"
      ]
    },
    {
      "cell_type": "markdown",
      "metadata": {
        "id": "cSl9s-Mnd_Xr"
      },
      "source": [
        "# Basic Linear Algebra\n",
        "\n",
        "Everything we do in Procrustean Analysis, i.e. alignment of 2 datasets with known correspondence between elements of the dataset, is done through linear algebra. Thus we begin with basic linear algebra operations, focusing on dimension of 3."
      ]
    },
    {
      "cell_type": "markdown",
      "metadata": {
        "id": "_7T66si6myjE"
      },
      "source": [
        "The complete python code can be downloaded [here](https://github.com/chene/ARQOPUS/blob/main/eccLinAlg.py)."
      ]
    },
    {
      "cell_type": "code",
      "metadata": {
        "id": "vDtvm8ciefBI"
      },
      "source": [
        "import numpy as np\n",
        "import numpy.matlib\n",
        "import math"
      ],
      "execution_count": null,
      "outputs": []
    },
    {
      "cell_type": "markdown",
      "metadata": {
        "id": "9st86CJuenuu"
      },
      "source": [
        "Define a 3x3 rotation matrix about the x-axis, the input is an angle in radian."
      ]
    },
    {
      "cell_type": "code",
      "metadata": {
        "id": "4ZDCmMQ6eviZ"
      },
      "source": [
        "def rotx3x3(angle):\n",
        "    \"\"\"\n",
        "    \n",
        "    Parameters\n",
        "    ----------\n",
        "    angle : \n",
        "        angle in radian\n",
        "\n",
        "    Returns\n",
        "    -------\n",
        "    a 3x3 rotation matrix about x-axis by an amount \"angle\"\n",
        "\n",
        "    \"\"\"\n",
        "    ca = math.cos(angle)\n",
        "    sa = math.sin(angle)\n",
        "    m = np.array([[1,0,0],[0, ca, -sa], [0, sa, ca]])\n",
        "    return m "
      ],
      "execution_count": null,
      "outputs": []
    },
    {
      "cell_type": "markdown",
      "metadata": {
        "id": "xYJoB-XygeFG"
      },
      "source": [
        "Thus, a rotation of $90^{o}$ about the axis is: "
      ]
    },
    {
      "cell_type": "code",
      "metadata": {
        "id": "LSEnXZyUfF0Q"
      },
      "source": [
        "print(rotx3x3(math.pi/2))"
      ],
      "execution_count": null,
      "outputs": []
    },
    {
      "cell_type": "markdown",
      "metadata": {
        "id": "14Sp7cVdt1be"
      },
      "source": [
        "Common in engineering/computer science, we employ the **[right-hand rule](https://www.britannica.com/science/right-hand-rule-vectors)**. Thus a positive rotation is rotation about an axis in the counter-clock-wise (CCW) fasion when looking into the origin. That is, if the fingers of the right index finger points to the **positive** x-axis, the right middle finger points to the **posive y-axis**, then the right thumb points to the **positive** z-axis."
      ]
    },
    {
      "cell_type": "markdown",
      "metadata": {
        "id": "r5yn3TfAgyKz"
      },
      "source": [
        "Similarly, define functions to compute rotation about y- and z-axis:"
      ]
    },
    {
      "cell_type": "code",
      "metadata": {
        "id": "C-dKNwO0g4q5"
      },
      "source": [
        "def roty3x3(angle):\n",
        "    \"\"\"\n",
        "    \n",
        "    Parameters\n",
        "    ----------\n",
        "    angle : \n",
        "        angle in radian\n",
        "\n",
        "    Returns\n",
        "    -------\n",
        "    a 3x3 rotation matrix about y-axis by an amount \"angle\"\n",
        "\n",
        "    \"\"\"\n",
        "    ca = math.cos(angle)\n",
        "    sa = math.sin(angle)\n",
        "    m = np.array([[ca,0,sa],[0,1,0],[-sa,0,ca]])\n",
        "    return m\n",
        "\n",
        "def rotz3x3(angle):\n",
        "    \"\"\"\n",
        "\n",
        "    Parameters\n",
        "    ----------\n",
        "    angle : \n",
        "        angle in radian\n",
        "\n",
        "    Returns\n",
        "    -------\n",
        "    a 3x3 rotation matrix about z-axis by an amoung \"angle\"\n",
        "\n",
        "    \"\"\"\n",
        "    ca = math.cos(angle)\n",
        "    sa = math.sin(angle)\n",
        "    m = np.array([[ca, -sa, 0], [sa, ca, 0], [ 0, 0, 1]])\n",
        "    return m"
      ],
      "execution_count": null,
      "outputs": []
    },
    {
      "cell_type": "markdown",
      "metadata": {
        "id": "aQMIBBiKhYft"
      },
      "source": [
        "Most of the time it is more convenient to work in the homogeneous coordinate system (i.e. 1 dimension higher than the data). Thus we define the following helper functions:"
      ]
    },
    {
      "cell_type": "code",
      "metadata": {
        "id": "NLMvbbgqhkHb"
      },
      "source": [
        "def rotx4x4(angle):\n",
        "    \"\"\"\n",
        "    Parameters\n",
        "    ----------\n",
        "    angle : \n",
        "        angle in radian\n",
        "\n",
        "    Returns\n",
        "    -------\n",
        "     a 4x4 rotation matrix about x-axis by an amount \"angle\"\n",
        "\n",
        "    \"\"\"\n",
        "    m = np.identity(4);\n",
        "    m[0:3,0:3]=rotx3x3(angle)\n",
        "    return m\n",
        "\n",
        "def roty4x4(angle):\n",
        "    \"\"\"\n",
        "    Parameters\n",
        "    ----------\n",
        "    angle : \n",
        "        angle in radian.\n",
        "\n",
        "    Returns\n",
        "    -------\n",
        "    a 4x4 rotation matrix about y-axis by an amount \"angle\"\n",
        "\n",
        "    \"\"\"\n",
        "    m = np.identity(4)\n",
        "    m[0:3,0:3] = roty3x3(angle)\n",
        "    return m\n",
        "\n",
        "def rotz4x4(angle):\n",
        "    \"\"\"\n",
        "    Parameters\n",
        "    ----------\n",
        "    angle : \n",
        "        angle in radian\n",
        "\n",
        "    Returns\n",
        "    -------\n",
        "    a 4x4 rotation matrix about z-axis by an amoung \"angle\"\n",
        "\n",
        "    \"\"\"\n",
        "    m = np.identity(4)\n",
        "    m[0:3,0:3] = rotz3x3(angle)\n",
        "    return m"
      ],
      "execution_count": null,
      "outputs": []
    },
    {
      "cell_type": "markdown",
      "metadata": {
        "id": "4EzJVryHh2ne"
      },
      "source": [
        "**Often, it is easier to work with rotation using quaternion instead of rotation matrix**. A quaternion is a complex number is 4D."
      ]
    },
    {
      "cell_type": "code",
      "metadata": {
        "id": "FBAxKJJriD_i"
      },
      "source": [
        "# We represent a quaternion as [x,y,z,w]\n",
        "\n",
        "def qnorm( qin ):\n",
        "    \"\"\"\n",
        "\n",
        "    Parameters\n",
        "    ----------\n",
        "    qin : \n",
        "        4x1 input quaternion\n",
        "\n",
        "    Returns\n",
        "    -------\n",
        "    TYPE\n",
        "        4x1 normalized quaternion\n",
        "\n",
        "    \"\"\"\n",
        "    return qin/np.linalg.norm(qin)"
      ],
      "execution_count": null,
      "outputs": []
    },
    {
      "cell_type": "markdown",
      "metadata": {
        "id": "UnNq4DeOiOf5"
      },
      "source": [
        "A quaternion can be converted into a 3x3 rotation matrix:"
      ]
    },
    {
      "cell_type": "code",
      "metadata": {
        "id": "YOrln6ztiSUG"
      },
      "source": [
        "def q2m3x3( qin ):\n",
        "    \"\"\"\n",
        "  \n",
        "    Parameters\n",
        "    ----------\n",
        "    qin : \n",
        "        4x1 quaternion ([x,y,z,w])\n",
        "\n",
        "    Returns\n",
        "    -------\n",
        "    3x3 rotation matrix\n",
        "\n",
        "    \"\"\"\n",
        "    q = qnorm( qin )\n",
        "    m = np.identity(3)\n",
        "    xx = q[0]*q[0]\n",
        "    yy = q[1]*q[1]\n",
        "    zz = q[2]*q[2]\n",
        "\n",
        "    xy = q[0]*q[1]\n",
        "    xz = q[0]*q[2]\n",
        "    \n",
        "    yz = q[1]*q[2]\n",
        "    \n",
        "    wx = q[3]*q[0]\n",
        "    wy = q[3]*q[1]\n",
        "    wz = q[3]*q[2]\n",
        "    \n",
        "    m[0,0] = 1 - 2 * (yy + zz);\n",
        "    m[0,1] = 2 * (xy - wz);\n",
        "    m[0,2] = 2 * (xz + wy);\n",
        "    \n",
        "    m[1,0] = 2 * (xy + wz);\n",
        "    m[1,1] = 1 - 2 * (xx + zz);\n",
        "    m[1,2] = 2 * (yz - wx);\n",
        "    \n",
        "    m[2,0] = 2 * (xz - wy);\n",
        "    m[2,1] = 2 * (yz + wx);\n",
        "    m[2,2] = 1 - 2 * (xx + yy);\n",
        "    return m"
      ],
      "execution_count": null,
      "outputs": []
    },
    {
      "cell_type": "markdown",
      "metadata": {
        "id": "PobXZ403ikAG"
      },
      "source": [
        "A 3x3 matrix can be converted into a quaternion:"
      ]
    },
    {
      "cell_type": "code",
      "metadata": {
        "id": "XNJl50xZipqH"
      },
      "source": [
        "def m3x32q(m):\n",
        "    \"\"\"\n",
        "\n",
        "    Parameters\n",
        "    ----------\n",
        "    m : \n",
        "        a 3x3 matrix\n",
        "\n",
        "    Returns\n",
        "    -------\n",
        "    a quaternion of 4x1 that represents the same rotation as the input 3x3\n",
        "\n",
        "    \"\"\"\n",
        "    T = 1.0 + m[0,0] + m[1,1] + m[2,2]\n",
        "    \n",
        "    if T > 0.000000001:\n",
        "        S = math.sqrt(T)*2\n",
        "        X = ( m[2,1] - m[1,2] )/ S\n",
        "        Y = ( m[0,2] - m[2,0] )/ S\n",
        "        Z = ( m[1,0] - m[0,1] )/ S\n",
        "        W = .25 * S\n",
        "    else:\n",
        "        if ( m[0,0] > m[1,1] and m[0,0] > m[2,2] ):\n",
        "            S = math.sqrt( 1.0 + m[0,0] - m[1,1] - m[2,2]) * 2\n",
        "            X = 0.25 * S\n",
        "            Y = ( m[1,0] + m[0,1] ) / S\n",
        "            Z = ( m[0,2] + m[2,0] ) / S\n",
        "            W = ( m[2,1] - m[1,2] ) / S\n",
        "        elif ( m[1,1] > m[2,2] ):\n",
        "            S = math.sqrt( 1 + m[1,1] - m[0,0] - m[2,2] ) * 2\n",
        "            X = ( m[1,0] + m[0,1] ) / S\n",
        "            Y = 0.25 * S\n",
        "            Z = ( m[2,1] + m[1,2] ) / S\n",
        "            W = ( m[0,2] - m[2,0] ) / S\n",
        "        else:\n",
        "            S = math.sqrt( 1 + m[2,2] - m[0,0] - m[1,2] ) * 2\n",
        "            X = ( m[0,2] + m[2,0] ) / S\n",
        "            Y = ( m[2,1] + m[1,2] ) / S\n",
        "            Z = .25 * S\n",
        "            W = ( m[1,0] - m[0,1] ) / S\n",
        "    return np.array([[X],[Y],[Z],[W]])"
      ],
      "execution_count": null,
      "outputs": []
    },
    {
      "cell_type": "markdown",
      "source": [
        "[With these basic knowledge in linear algebra, let's move on to solving the point-based Procrustean registration (aka landmark-based registration, aka point-based registration with correspondence.](https://github.com/chene/ARQOPUS/blob/main/point_Procrustes.ipynb)"
      ],
      "metadata": {
        "id": "aYpGyIBibayB"
      }
    }
  ]
}