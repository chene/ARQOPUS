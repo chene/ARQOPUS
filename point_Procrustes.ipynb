{
  "nbformat": 4,
  "nbformat_minor": 0,
  "metadata": {
    "colab": {
      "name": "Untitled10.ipynb",
      "provenance": [],
      "authorship_tag": "ABX9TyPnHTsHuzsLyNx4FG8jnUML",
      "include_colab_link": true
    },
    "kernelspec": {
      "name": "python3",
      "display_name": "Python 3"
    },
    "language_info": {
      "name": "python"
    }
  },
  "cells": [
    {
      "cell_type": "markdown",
      "metadata": {
        "id": "view-in-github",
        "colab_type": "text"
      },
      "source": [
        "<a href=\"https://colab.research.google.com/github/chene/ARQOPUS/blob/main/point_Procrustes.ipynb\" target=\"_parent\"><img src=\"https://colab.research.google.com/assets/colab-badge.svg\" alt=\"Open In Colab\"/></a>"
      ]
    },
    {
      "cell_type": "markdown",
      "metadata": {
        "id": "zxza-fUnlhWP"
      },
      "source": [
        "# Orthogonal Procrustes Analysis (OPA)\n",
        "\n",
        "[Procrustes](https://en.wikipedia.org/wiki/Procrustes) Analysis refers to the process of transforming one set of data such that it matches better with another. Within the context of computer-assisted interventions, we are typically interested in **scaling**, followed by **rotation** and **translation** of one set of 3D points so they are *registered* (aligned) with another set of 3D points. *Orthogonal* implies that there is no shearing. We assume there is a 1:1 correspondance between theset two datasets.\n",
        "\n",
        "Perhaps the authoritative literature on this subject matter is the book by Gower and Dijksterhuis:\n",
        "\n",
        "```\n",
        "@book{GD2004,\n",
        "address   = {New York},\n",
        "author    = {Gower, John C. and Dijksterhuis, Garmt B.},\n",
        "publisher = {Oxford University Press},\n",
        "title     = {Procrustes Problems},\n",
        "year      = {2004}\n",
        "}\n",
        "```"
      ]
    },
    {
      "cell_type": "markdown",
      "metadata": {
        "id": "-MRjEjLmoTGJ"
      },
      "source": [
        "## OPA with isotropic scaling\n",
        "\n"
      ]
    },
    {
      "cell_type": "markdown",
      "metadata": {
        "id": "clDd-rqFpK6F"
      },
      "source": [
        "## OPA with anisotropic scaling"
      ]
    }
  ]
}