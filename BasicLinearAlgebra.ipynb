{
  "nbformat": 4,
  "nbformat_minor": 2,
  "metadata": {
    "colab": {
      "name": "Untitled3.ipynb",
      "provenance": [],
      "collapsed_sections": [],
      "authorship_tag": "ABX9TyOA5j+6i87GldRPVNdv+m+0",
      "include_colab_link": true
    },
    "kernelspec": {
      "name": "python3",
      "display_name": "Python 3"
    },
    "language_info": {
      "name": "python"
    }
  },
  "cells": [
    {
      "cell_type": "markdown",
      "source": [
        "<a href=\"https://colab.research.google.com/github/chene/ARQOPUS/blob/main/BasicLinearAlgebra.ipynb\" target=\"_parent\"><img src=\"https://colab.research.google.com/assets/colab-badge.svg\" alt=\"Open In Colab\"/></a>"
      ],
      "metadata": {
        "id": "view-in-github",
        "colab_type": "text"
      }
    },
    {
      "cell_type": "markdown",
      "source": [
        "# Basic Linear Algebra\n",
        "\n",
        "Everything we do in Procrustean Analysis, i.e. alignment of 2 datasets with known correspondence between elements of the dataset, is done through linear algebra. Thus we begin with basic linear algebra operations, focusing on dimension of 3."
      ],
      "metadata": {
        "id": "cSl9s-Mnd_Xr"
      }
    },
    {
      "cell_type": "markdown",
      "source": [
        "The complete python code can be downloaded [here](https://github.com/chene77/ARQOPUS/blob/main/eccLinAlg.py)."
      ],
      "metadata": {
        "id": "_7T66si6myjE"
      }
    },
    {
      "cell_type": "code",
      "execution_count": null,
      "source": [
        "import numpy as np\r\n",
        "import numpy.matlib\r\n",
        "import math"
      ],
      "outputs": [],
      "metadata": {
        "id": "vDtvm8ciefBI"
      }
    },
    {
      "cell_type": "markdown",
      "source": [
        "Define a 3x3 rotation matrix about the x-axis, the input is an angle in radian."
      ],
      "metadata": {
        "id": "9st86CJuenuu"
      }
    },
    {
      "cell_type": "code",
      "execution_count": null,
      "source": [
        "def rotx3x3(angle):\r\n",
        "    \"\"\"\r\n",
        "    \r\n",
        "    Parameters\r\n",
        "    ----------\r\n",
        "    angle : \r\n",
        "        angle in radian\r\n",
        "\r\n",
        "    Returns\r\n",
        "    -------\r\n",
        "    a 3x3 rotation matrix about x-axis by an amount \"angle\"\r\n",
        "\r\n",
        "    \"\"\"\r\n",
        "    ca = math.cos(angle)\r\n",
        "    sa = math.sin(angle)\r\n",
        "    m = np.array([[1,0,0],[0, ca, -sa], [0, sa, ca]])\r\n",
        "    return m "
      ],
      "outputs": [],
      "metadata": {
        "id": "4ZDCmMQ6eviZ"
      }
    },
    {
      "cell_type": "markdown",
      "source": [
        "Thus, a rotation of $90^{o}$ about the axis is: "
      ],
      "metadata": {
        "id": "xYJoB-XygeFG"
      }
    },
    {
      "cell_type": "code",
      "execution_count": null,
      "source": [
        "print(rotx3x3(math.pi/2))"
      ],
      "outputs": [],
      "metadata": {
        "id": "LSEnXZyUfF0Q"
      }
    },
    {
      "cell_type": "markdown",
      "source": [
        "Common in engineering/computer science, we employ the **[right-hand rule](https://www.britannica.com/science/right-hand-rule-vectors)**. Thus a positive rotation is rotation about an axis in the counter-clock-wise (CCW) fasion when looking into the origin. That is, if the fingers of the right index finger points to the **positive** x-axis, the right middle finger points to the **posive y-axis**, then the right thumb points to the **positive** z-axis."
      ],
      "metadata": {
        "id": "14Sp7cVdt1be"
      }
    },
    {
      "cell_type": "markdown",
      "source": [
        "Similarly, define functions to compute rotation about y- and z-axis:"
      ],
      "metadata": {
        "id": "r5yn3TfAgyKz"
      }
    },
    {
      "cell_type": "code",
      "execution_count": null,
      "source": [
        "def roty3x3(angle):\r\n",
        "    \"\"\"\r\n",
        "    \r\n",
        "    Parameters\r\n",
        "    ----------\r\n",
        "    angle : \r\n",
        "        angle in radian\r\n",
        "\r\n",
        "    Returns\r\n",
        "    -------\r\n",
        "    a 3x3 rotation matrix about y-axis by an amount \"angle\"\r\n",
        "\r\n",
        "    \"\"\"\r\n",
        "    ca = math.cos(angle)\r\n",
        "    sa = math.sin(angle)\r\n",
        "    m = np.array([[ca,0,sa],[0,1,0],[-sa,0,ca]])\r\n",
        "    return m\r\n",
        "\r\n",
        "def rotz3x3(angle):\r\n",
        "    \"\"\"\r\n",
        "\r\n",
        "    Parameters\r\n",
        "    ----------\r\n",
        "    angle : \r\n",
        "        angle in radian\r\n",
        "\r\n",
        "    Returns\r\n",
        "    -------\r\n",
        "    a 3x3 rotation matrix about z-axis by an amoung \"angle\"\r\n",
        "\r\n",
        "    \"\"\"\r\n",
        "    ca = math.cos(angle)\r\n",
        "    sa = math.sin(angle)\r\n",
        "    m = np.array([[ca, -sa, 0], [sa, ca, 0], [ 0, 0, 1]])\r\n",
        "    return m"
      ],
      "outputs": [],
      "metadata": {
        "id": "C-dKNwO0g4q5"
      }
    },
    {
      "cell_type": "markdown",
      "source": [
        "Most of the time it is more convenient to work in the homogeneous coordinate system (i.e. 1 dimension higher than the data). Thus we define the following helper functions:"
      ],
      "metadata": {
        "id": "aQMIBBiKhYft"
      }
    },
    {
      "cell_type": "code",
      "execution_count": null,
      "source": [
        "def rotx4x4(angle):\r\n",
        "    \"\"\"\r\n",
        "    Parameters\r\n",
        "    ----------\r\n",
        "    angle : \r\n",
        "        angle in radian\r\n",
        "\r\n",
        "    Returns\r\n",
        "    -------\r\n",
        "     a 4x4 rotation matrix about x-axis by an amount \"angle\"\r\n",
        "\r\n",
        "    \"\"\"\r\n",
        "    m = np.identity(4);\r\n",
        "    m[0:3,0:3]=rotx3x3(angle)\r\n",
        "    return m\r\n",
        "\r\n",
        "def roty4x4(angle):\r\n",
        "    \"\"\"\r\n",
        "    Parameters\r\n",
        "    ----------\r\n",
        "    angle : \r\n",
        "        angle in radian.\r\n",
        "\r\n",
        "    Returns\r\n",
        "    -------\r\n",
        "    a 4x4 rotation matrix about y-axis by an amount \"angle\"\r\n",
        "\r\n",
        "    \"\"\"\r\n",
        "    m = np.identity(4)\r\n",
        "    m[0:3,0:3] = roty3x3(angle)\r\n",
        "    return m\r\n",
        "\r\n",
        "def rotz4x4(angle):\r\n",
        "    \"\"\"\r\n",
        "    Parameters\r\n",
        "    ----------\r\n",
        "    angle : \r\n",
        "        angle in radian\r\n",
        "\r\n",
        "    Returns\r\n",
        "    -------\r\n",
        "    a 4x4 rotation matrix about z-axis by an amoung \"angle\"\r\n",
        "\r\n",
        "    \"\"\"\r\n",
        "    m = np.identity(4)\r\n",
        "    m[0:3,0:3] = rotz3x3(angle)\r\n",
        "    return m"
      ],
      "outputs": [],
      "metadata": {
        "id": "NLMvbbgqhkHb"
      }
    },
    {
      "cell_type": "markdown",
      "source": [
        "**Often, it is easier to work with rotation using quaternion instead of rotation matrix**. A quaternion is a complex number is 4D."
      ],
      "metadata": {
        "id": "4EzJVryHh2ne"
      }
    },
    {
      "cell_type": "code",
      "execution_count": null,
      "source": [
        "# We represent a quaternion as [x,y,z,w]\r\n",
        "\r\n",
        "def qnorm( qin ):\r\n",
        "    \"\"\"\r\n",
        "\r\n",
        "    Parameters\r\n",
        "    ----------\r\n",
        "    qin : \r\n",
        "        4x1 input quaternion\r\n",
        "\r\n",
        "    Returns\r\n",
        "    -------\r\n",
        "    TYPE\r\n",
        "        4x1 normalized quaternion\r\n",
        "\r\n",
        "    \"\"\"\r\n",
        "    return qin/np.linalg.norm(qin)"
      ],
      "outputs": [],
      "metadata": {
        "id": "FBAxKJJriD_i"
      }
    },
    {
      "cell_type": "markdown",
      "source": [
        "A quaternion can be converted into a 3x3 rotation matrix:"
      ],
      "metadata": {
        "id": "UnNq4DeOiOf5"
      }
    },
    {
      "cell_type": "code",
      "execution_count": null,
      "source": [
        "def q2m3x3( qin ):\r\n",
        "    \"\"\"\r\n",
        "  \r\n",
        "    Parameters\r\n",
        "    ----------\r\n",
        "    qin : \r\n",
        "        4x1 quaternion ([x,y,z,w])\r\n",
        "\r\n",
        "    Returns\r\n",
        "    -------\r\n",
        "    3x3 rotation matrix\r\n",
        "\r\n",
        "    \"\"\"\r\n",
        "    q = qnorm( qin )\r\n",
        "    m = np.identity(3)\r\n",
        "    xx = q[0]*q[0]\r\n",
        "    yy = q[1]*q[1]\r\n",
        "    zz = q[2]*q[2]\r\n",
        "\r\n",
        "    xy = q[0]*q[1]\r\n",
        "    xz = q[0]*q[2]\r\n",
        "    \r\n",
        "    yz = q[1]*q[2]\r\n",
        "    \r\n",
        "    wx = q[3]*q[0]\r\n",
        "    wy = q[3]*q[1]\r\n",
        "    wz = q[3]*q[2]\r\n",
        "    \r\n",
        "    m[0,0] = 1 - 2 * (yy + zz);\r\n",
        "    m[0,1] = 2 * (xy - wz);\r\n",
        "    m[0,2] = 2 * (xz + wy);\r\n",
        "    \r\n",
        "    m[1,0] = 2 * (xy + wz);\r\n",
        "    m[1,1] = 1 - 2 * (xx + zz);\r\n",
        "    m[1,2] = 2 * (yz - wx);\r\n",
        "    \r\n",
        "    m[2,0] = 2 * (xz - wy);\r\n",
        "    m[2,1] = 2 * (yz + wx);\r\n",
        "    m[2,2] = 1 - 2 * (xx + yy);\r\n",
        "    return m"
      ],
      "outputs": [],
      "metadata": {
        "id": "YOrln6ztiSUG"
      }
    },
    {
      "cell_type": "markdown",
      "source": [
        "A 3x3 matrix can be converted into a quaternion:"
      ],
      "metadata": {
        "id": "PobXZ403ikAG"
      }
    },
    {
      "cell_type": "code",
      "execution_count": null,
      "source": [
        "def m3x32q(m):\r\n",
        "    \"\"\"\r\n",
        "\r\n",
        "    Parameters\r\n",
        "    ----------\r\n",
        "    m : \r\n",
        "        a 3x3 matrix\r\n",
        "\r\n",
        "    Returns\r\n",
        "    -------\r\n",
        "    a quaternion of 4x1 that represents the same rotation as the input 3x3\r\n",
        "\r\n",
        "    \"\"\"\r\n",
        "    T = 1.0 + m[0,0] + m[1,1] + m[2,2]\r\n",
        "    \r\n",
        "    if T > 0.000000001:\r\n",
        "        S = math.sqrt(T)*2\r\n",
        "        X = ( m[2,1] - m[1,2] )/ S\r\n",
        "        Y = ( m[0,2] - m[2,0] )/ S\r\n",
        "        Z = ( m[1,0] - m[0,1] )/ S\r\n",
        "        W = .25 * S\r\n",
        "    else:\r\n",
        "        if ( m[0,0] > m[1,1] and m[0,0] > m[2,2] ):\r\n",
        "            S = math.sqrt( 1.0 + m[0,0] - m[1,1] - m[2,2]) * 2\r\n",
        "            X = 0.25 * S\r\n",
        "            Y = ( m[1,0] + m[0,1] ) / S\r\n",
        "            Z = ( m[0,2] + m[2,0] ) / S\r\n",
        "            W = ( m[2,1] - m[1,2] ) / S\r\n",
        "        elif ( m[1,1] > m[2,2] ):\r\n",
        "            S = math.sqrt( 1 + m[1,1] - m[0,0] - m[2,2] ) * 2\r\n",
        "            X = ( m[1,0] + m[0,1] ) / S\r\n",
        "            Y = 0.25 * S\r\n",
        "            Z = ( m[2,1] + m[1,2] ) / S\r\n",
        "            W = ( m[0,2] - m[2,0] ) / S\r\n",
        "        else:\r\n",
        "            S = math.sqrt( 1 + m[2,2] - m[0,0] - m[1,2] ) * 2\r\n",
        "            X = ( m[0,2] + m[2,0] ) / S\r\n",
        "            Y = ( m[2,1] + m[1,2] ) / S\r\n",
        "            Z = .25 * S\r\n",
        "            W = ( m[1,0] - m[0,1] ) / S\r\n",
        "    return np.array([[X],[Y],[Z],[W]])"
      ],
      "outputs": [],
      "metadata": {
        "id": "XNJl50xZipqH"
      }
    }
  ]
}