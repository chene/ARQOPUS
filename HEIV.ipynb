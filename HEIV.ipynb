{
  "nbformat": 4,
  "nbformat_minor": 0,
  "metadata": {
    "colab": {
      "name": "Untitled12.ipynb",
      "provenance": [],
      "authorship_tag": "ABX9TyOSeNoTT+6pLywEnamaYL9b",
      "include_colab_link": true
    },
    "kernelspec": {
      "name": "python3",
      "display_name": "Python 3"
    },
    "language_info": {
      "name": "python"
    }
  },
  "cells": [
    {
      "cell_type": "markdown",
      "metadata": {
        "id": "view-in-github",
        "colab_type": "text"
      },
      "source": [
        "<a href=\"https://colab.research.google.com/github/chene/ARQOPUS/blob/main/HEIV.ipynb\" target=\"_parent\"><img src=\"https://colab.research.google.com/assets/colab-badge.svg\" alt=\"Open In Colab\"/></a>"
      ]
    },
    {
      "cell_type": "markdown",
      "source": [
        "# Optimal solution in the presence of heteroscedastic Fiducial Localization Error\n",
        "\n",
        "The closed-form solutions for the [point-based Procruste Analysis](https://github.com/chene/ARQOPUS/blob/main/point_Procrustes.ipynb), and subsequently the solutions for the [line-based Procruste Analysis](https://github.com/chene/ARQOPUS/blob/main/line_Procrustes.ipynb) are least-squares solutions. They are *optimal* **only when** the underlying Fiducial Localization Error (FLE) is *zero-mean*, *isotropic*, and *identicaly distributed* (aka **i.i.d**). Such an idealized environment are often violated in the CAI setting. As a trivial example, [optical tracking systems based on stereo-cameras are known to exhibit anisotropic FLE](https://link.springer.com/chapter/10.1007%2F978-3-642-15711-0_73), althought it is more likely to be heteroscedastic as well.\n",
        "\n",
        "An optimal solution for solving the Orthogonal Procrustes Analysis actually exists since 1999, although it is not widely known in the CAI community:\n",
        "\n",
        "```\n",
        "@inproceedings{Matei1999,\n",
        "author    = {Matei, Bogdan and Meer, Peter},\n",
        "booktitle = {Proceedings. 1999 IEEE Computer Society Conference on Computer Vision and Pattern Recognition (Cat. No PR00149)},\n",
        "doi       = {10.1109/CVPR.1999.786961},\n",
        "pages     = {339--345},\n",
        "publisher = {IEEE Comput. Soc},\n",
        "title     = {Optimal rigid motion estimation and performance evaluation with bootstrap},\n",
        "year      = {1999}, }\n",
        "```\n",
        "\n",
        "In this Jupyter notebook, we introduce both a Matlab and a Python implementation for this algorithm."
      ],
      "metadata": {
        "id": "FsnQVwx7lbn9"
      }
    }
  ]
}